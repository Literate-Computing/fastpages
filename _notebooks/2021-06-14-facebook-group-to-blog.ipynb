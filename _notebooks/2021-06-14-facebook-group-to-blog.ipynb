{
 "cells": [
  {
   "cell_type": "markdown",
   "metadata": {},
   "source": [
    "# リニューアルしました\n",
    "\n",
    "> LC4RIページリニューアルのお知らせ\n",
    "\n",
    "- toc: true\n",
    "- badges: true\n",
    "- comments: true\n",
    "- categories: [news]"
   ]
  },
  {
   "cell_type": "markdown",
   "metadata": {},
   "source": [
    "\n",
    "*TBD*\n",
    "\n",
    "FacebookのグループとしてLC4RIの状況をポストしてきましたが、[fastpages](https://github.com/fastai/fastpages) を用いたブログの形にリニューアルしました。\n",
    "\n",
    "実行可能な紹介を通じてLC4RIの実施状況をご報告できればと思います。"
   ]
  },
  {
   "cell_type": "markdown",
   "metadata": {},
   "source": [
    "このブログのPostは [MyBinder](https://mybinder.org) で実行することができます。 *TBD*"
   ]
  },
  {
   "cell_type": "code",
   "execution_count": 1,
   "metadata": {
    "scrolled": true
   },
   "outputs": [
    {
     "name": "stdout",
     "output_type": "stream",
     "text": [
      "jupyter core     : 4.6.3\n",
      "jupyter-notebook : 6.1.3\n",
      "qtconsole        : not installed\n",
      "ipython          : 7.17.0\n",
      "ipykernel        : 5.3.4\n",
      "jupyter client   : 6.1.6\n",
      "jupyter lab      : 2.2.5\n",
      "nbconvert        : 5.6.1\n",
      "ipywidgets       : 7.5.1\n",
      "nbformat         : 5.0.7\n",
      "traitlets        : 4.3.3\n"
     ]
    }
   ],
   "source": [
    "!jupyter --version"
   ]
  },
  {
   "cell_type": "code",
   "execution_count": null,
   "metadata": {},
   "outputs": [],
   "source": []
  }
 ],
 "metadata": {
  "kernelspec": {
   "display_name": "Python 3",
   "language": "python",
   "name": "python3"
  },
  "language_info": {
   "codemirror_mode": {
    "name": "ipython",
    "version": 3
   },
   "file_extension": ".py",
   "mimetype": "text/x-python",
   "name": "python",
   "nbconvert_exporter": "python",
   "pygments_lexer": "ipython3",
   "version": "3.8.5"
  }
 },
 "nbformat": 4,
 "nbformat_minor": 4
}
