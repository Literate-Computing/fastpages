{
 "cells": [
  {
   "cell_type": "markdown",
   "metadata": {
    "lc_cell_meme": {
     "current": "1e8b9add-ccb7-11eb-a703-ad2f70a6c30d-1-3641",
     "history": [
      {
       "current": "1e8b9add-ccb7-11eb-a703-ad2f70a6c30d-1-3641",
       "next": "1e8b9b77-ccb7-11eb-ac9c-ad2f70a6c30d",
       "previous": null
      }
     ],
     "next": "1e8b9b77-ccb7-11eb-ac9c-ad2f70a6c30d-1-7ae7",
     "previous": null
    }
   },
   "source": [
    "# リニューアルしました\n",
    "\n",
    "> LC4RIページリニューアルのお知らせ\n",
    "\n",
    "- toc: true\n",
    "- badges: true\n",
    "- comments: true\n",
    "- categories: [news]"
   ]
  },
  {
   "cell_type": "markdown",
   "metadata": {
    "lc_cell_meme": {
     "current": "1e8b9b77-ccb7-11eb-ac9c-ad2f70a6c30d-1-7ae7",
     "history": [
      {
       "current": "1e8b9b77-ccb7-11eb-ac9c-ad2f70a6c30d-1-7ae7",
       "next": "1e8b9bd9-ccb7-11eb-8a17-ad2f70a6c30d",
       "previous": "1e8b9add-ccb7-11eb-a703-ad2f70a6c30d"
      }
     ],
     "next": "1e8b9bd9-ccb7-11eb-8a17-ad2f70a6c30d-1-d233",
     "previous": "1e8b9add-ccb7-11eb-a703-ad2f70a6c30d-1-3641"
    }
   },
   "source": [
    "FacebookのグループとしてLC4RIの状況をポストしてきましたが、[fastpages](https://github.com/fastai/fastpages) を用いたブログの形にリニューアルしました。\n",
    "\n",
    "実行可能な紹介を通じてLC4RIの実施状況をご報告できればと思います。"
   ]
  },
  {
   "cell_type": "markdown",
   "metadata": {
    "lc_cell_meme": {
     "current": "1e8b9bd9-ccb7-11eb-8a17-ad2f70a6c30d-1-d233",
     "history": [
      {
       "current": "1e8b9bd9-ccb7-11eb-8a17-ad2f70a6c30d-1-d233",
       "next": "1e8b9c2f-ccb7-11eb-88ff-ad2f70a6c30d",
       "previous": "1e8b9b77-ccb7-11eb-ac9c-ad2f70a6c30d"
      }
     ],
     "next": "a6a1fcf7-435a-11ec-8f66-990d984a33b2",
     "previous": "1e8b9b77-ccb7-11eb-ac9c-ad2f70a6c30d-1-7ae7"
    }
   },
   "source": [
    "このブログのPostは [MyBinder](https://mybinder.org) で実行することができます。"
   ]
  },
  {
   "cell_type": "markdown",
   "metadata": {
    "lc_cell_meme": {
     "current": "a6a1fcf7-435a-11ec-8f66-990d984a33b2",
     "next": "1e8b9c2f-ccb7-11eb-88ff-ad2f70a6c30d-1-8e18",
     "previous": "1e8b9bd9-ccb7-11eb-8a17-ad2f70a6c30d-1-d233"
    }
   },
   "source": [
    "参考までに、このPostを作った時のJupyter Notebookのバージョン:"
   ]
  },
  {
   "cell_type": "code",
   "execution_count": 1,
   "metadata": {
    "lc_cell_meme": {
     "current": "1e8b9c2f-ccb7-11eb-88ff-ad2f70a6c30d-1-8e18",
     "execution_end_time": "2021-06-14T02:20:41.697276Z",
     "history": [
      {
       "current": "1e8b9c2f-ccb7-11eb-88ff-ad2f70a6c30d-1-8e18",
       "next": "1e8b9c7f-ccb7-11eb-8e8a-ad2f70a6c30d",
       "previous": "1e8b9bd9-ccb7-11eb-8a17-ad2f70a6c30d"
      }
     ],
     "next": "1e8b9c7f-ccb7-11eb-8e8a-ad2f70a6c30d-2-f7b5-f8f8",
     "previous": "a6a1fcf7-435a-11ec-8f66-990d984a33b2"
    },
    "lc_wrapper": {
     "log_history": [
      "/home/jovyan/_notebooks/.log/20210614/20210614-022039-0069.log"
     ]
    },
    "scrolled": true
   },
   "outputs": [
    {
     "name": "stdout",
     "output_type": "stream",
     "text": [
      "jupyter core     : 4.7.1\n",
      "jupyter-notebook : 6.3.0\n",
      "qtconsole        : not installed\n",
      "ipython          : 7.23.1\n",
      "ipykernel        : 5.5.4\n",
      "jupyter client   : 6.1.12\n",
      "jupyter lab      : 3.0.14\n",
      "nbconvert        : 6.0.7\n",
      "ipywidgets       : 7.6.3\n",
      "nbformat         : 5.1.3\n",
      "traitlets        : 5.0.5\n"
     ]
    }
   ],
   "source": [
    "!jupyter --version"
   ]
  },
  {
   "cell_type": "markdown",
   "metadata": {
    "lc_cell_meme": {
     "current": "1e8b9c7f-ccb7-11eb-8e8a-ad2f70a6c30d-2-f7b5-f8f8",
     "history": [
      {
       "current": "1e8b9c7f-ccb7-11eb-8e8a-ad2f70a6c30d-2-f7b5-f8f8",
       "next": null,
       "previous": "1e8b9c2f-ccb7-11eb-88ff-ad2f70a6c30d"
      }
     ],
     "next": "a6a1ff12-435a-11ec-a76b-990d984a33b2",
     "previous": "1e8b9c2f-ccb7-11eb-88ff-ad2f70a6c30d-1-8e18"
    }
   },
   "source": [
    "こんなことができたりします。"
   ]
  },
  {
   "cell_type": "code",
   "execution_count": null,
   "metadata": {
    "lc_cell_meme": {
     "current": "a6a1ff12-435a-11ec-a76b-990d984a33b2",
     "next": null,
     "previous": "1e8b9c7f-ccb7-11eb-8e8a-ad2f70a6c30d-2-f7b5-f8f8"
    }
   },
   "outputs": [],
   "source": []
  }
 ],
 "metadata": {
  "kernelspec": {
   "display_name": "Python 3",
   "language": "python",
   "name": "python3"
  },
  "language_info": {
   "file_extension": ".py",
   "mimetype": "text/x-python",
   "name": "python",
   "nbconvert_exporter": "python",
   "pygments_lexer": "ipython3",
   "version": "3.9.2"
  },
  "lc_notebook_meme": {
   "current": "1e8b96ec-ccb7-11eb-9d0b-ad2f70a6c30d",
   "lc_server_signature": {
    "current": {
     "notebook_dir": "/home/jovyan",
     "notebook_path": "/_notebooks",
     "server_url": "https://hub.gke2.mybinder.org/user/literate-computing-fastpages-p03m8yw2/",
     "signature_id": "7c5b9fe4-435a-11ec-bdec-990d984a33b2"
    },
    "history": [
     {
      "notebook_dir": "/home/jovyan",
      "notebook_path": "/_notebooks",
      "server_url": "https://hub.gke2.mybinder.org/user/literate-computing-fastpages-bb0ngpx5/",
      "signature_id": "1356bfb3-ccb7-11eb-8a6d-ad2f70a6c30d"
     }
    ]
   }
  },
  "toc": {
   "base_numbering": 1,
   "nav_menu": {},
   "number_sections": true,
   "sideBar": true,
   "skip_h1_title": false,
   "title_cell": "Table of Contents",
   "title_sidebar": "Contents",
   "toc_cell": false,
   "toc_position": {},
   "toc_section_display": true,
   "toc_window_display": false
  }
 },
 "nbformat": 4,
 "nbformat_minor": 4
}
