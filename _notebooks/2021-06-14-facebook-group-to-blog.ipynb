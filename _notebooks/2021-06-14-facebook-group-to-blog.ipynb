{
 "cells": [
  {
   "cell_type": "markdown",
   "metadata": {
    "lc_cell_meme": {
     "current": "1e8b9add-ccb7-11eb-a703-ad2f70a6c30d",
     "next": "1e8b9b77-ccb7-11eb-ac9c-ad2f70a6c30d",
     "previous": null
    }
   },
   "source": [
    "# リニューアルしました\n",
    "\n",
    "> LC4RIページリニューアルのお知らせ\n",
    "\n",
    "- toc: true\n",
    "- badges: true\n",
    "- comments: true\n",
    "- categories: [news]"
   ]
  },
  {
   "cell_type": "markdown",
   "metadata": {
    "lc_cell_meme": {
     "current": "1e8b9b77-ccb7-11eb-ac9c-ad2f70a6c30d",
     "next": "1e8b9bd9-ccb7-11eb-8a17-ad2f70a6c30d",
     "previous": "1e8b9add-ccb7-11eb-a703-ad2f70a6c30d"
    }
   },
   "source": [
    "\n",
    "*TBD*\n",
    "\n",
    "FacebookのグループとしてLC4RIの状況をポストしてきましたが、[fastpages](https://github.com/fastai/fastpages) を用いたブログの形にリニューアルしました。\n",
    "\n",
    "実行可能な紹介を通じてLC4RIの実施状況をご報告できればと思います。"
   ]
  },
  {
   "cell_type": "markdown",
   "metadata": {
    "lc_cell_meme": {
     "current": "1e8b9bd9-ccb7-11eb-8a17-ad2f70a6c30d",
     "next": "1e8b9c2f-ccb7-11eb-88ff-ad2f70a6c30d",
     "previous": "1e8b9b77-ccb7-11eb-ac9c-ad2f70a6c30d"
    }
   },
   "source": [
    "このブログのPostは [MyBinder](https://mybinder.org) で実行することができます。 *TBD*"
   ]
  },
  {
   "cell_type": "code",
   "execution_count": 1,
   "metadata": {
    "lc_cell_meme": {
     "current": "1e8b9c2f-ccb7-11eb-88ff-ad2f70a6c30d",
     "execution_end_time": "2021-06-14T02:20:41.697276Z",
     "next": "1e8b9c7f-ccb7-11eb-8e8a-ad2f70a6c30d",
     "previous": "1e8b9bd9-ccb7-11eb-8a17-ad2f70a6c30d"
    },
    "lc_wrapper": {
     "log_history": [
      "/home/jovyan/_notebooks/.log/20210614/20210614-022039-0069.log"
     ]
    },
    "scrolled": true
   },
   "outputs": [
    {
     "name": "stdout",
     "output_type": "stream",
     "text": [
      "jupyter core     : 4.7.1\n",
      "jupyter-notebook : 6.3.0\n",
      "qtconsole        : not installed\n",
      "ipython          : 7.23.1\n",
      "ipykernel        : 5.5.4\n",
      "jupyter client   : 6.1.12\n",
      "jupyter lab      : 3.0.14\n",
      "nbconvert        : 6.0.7\n",
      "ipywidgets       : 7.6.3\n",
      "nbformat         : 5.1.3\n",
      "traitlets        : 5.0.5\n"
     ]
    }
   ],
   "source": [
    "!jupyter --version"
   ]
  },
  {
   "cell_type": "code",
   "execution_count": null,
   "metadata": {
    "lc_cell_meme": {
     "current": "1e8b9c7f-ccb7-11eb-8e8a-ad2f70a6c30d",
     "next": null,
     "previous": "1e8b9c2f-ccb7-11eb-88ff-ad2f70a6c30d"
    }
   },
   "outputs": [],
   "source": []
  }
 ],
 "metadata": {
  "kernelspec": {
   "display_name": "Python 3",
   "language": "python",
   "name": "python3"
  },
  "language_info": {
   "file_extension": ".py",
   "mimetype": "text/x-python",
   "name": "python",
   "nbconvert_exporter": "python",
   "pygments_lexer": "ipython3",
   "version": "3.9.2"
  },
  "lc_notebook_meme": {
   "current": "1e8b96ec-ccb7-11eb-9d0b-ad2f70a6c30d",
   "lc_server_signature": {
    "current": {
     "notebook_dir": "/home/jovyan",
     "notebook_path": "/_notebooks",
     "server_url": "https://hub.gke2.mybinder.org/user/literate-computing-fastpages-bb0ngpx5/",
     "signature_id": "1356bfb3-ccb7-11eb-8a6d-ad2f70a6c30d"
    },
    "history": []
   }
  },
  "toc": {
   "base_numbering": 1,
   "nav_menu": {},
   "number_sections": true,
   "sideBar": true,
   "skip_h1_title": false,
   "title_cell": "Table of Contents",
   "title_sidebar": "Contents",
   "toc_cell": false,
   "toc_position": {},
   "toc_section_display": true,
   "toc_window_display": false
  }
 },
 "nbformat": 4,
 "nbformat_minor": 4
}
