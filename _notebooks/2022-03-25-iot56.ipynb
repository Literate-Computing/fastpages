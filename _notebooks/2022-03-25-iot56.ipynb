{
 "cells": [
  {
   "cell_type": "markdown",
   "id": "1d97bccf",
   "metadata": {
    "lc_cell_meme": {
     "current": "9a7482a0-ac12-11ec-8e15-9b05fb9d5f1d",
     "history": [
      {
       "current": "9a7482a0-ac12-11ec-8e15-9b05fb9d5f1d",
       "next": null,
       "previous": null
      }
     ],
     "next": "e1fc0bdb-ac12-11ec-baf2-9b05fb9d5f1d",
     "previous": null
    }
   },
   "source": [
    "# インターネットと運用技術（IOT）研究会にて発表を行いました\n",
    "\n",
    "> 研究会発表\n",
    "\n",
    "- toc: true\n",
    "- badges: true\n",
    "- comments: true\n",
    "- categories: [news, 研究会発表]"
   ]
  },
  {
   "cell_type": "markdown",
   "id": "9678ab41",
   "metadata": {
    "lc_cell_meme": {
     "current": "e1fc0bdb-ac12-11ec-baf2-9b05fb9d5f1d",
     "history": [
      {
       "current": "e1fc0bdb-ac12-11ec-baf2-9b05fb9d5f1d",
       "next": null,
       "previous": "9a7482a0-ac12-11ec-8e15-9b05fb9d5f1d"
      }
     ],
     "next": "265dad13-ac13-11ec-94d8-9b05fb9d5f1d",
     "previous": "9a7482a0-ac12-11ec-8e15-9b05fb9d5f1d"
    }
   },
   "source": [
    "2021年度第 4 回 (IOT 通算第 56 回) 研究会 (2022 年 3 月 7 日 〜 8 日 @学術情報メディアセンター (京都大学 吉田キャンパス) & オンライン ハイブリッド開催) にて、LC4RIの実践に関する発表を行いました。詳細は以下リンクをご覧ください。\n"
   ]
  },
  {
   "cell_type": "markdown",
   "id": "839ad27b",
   "metadata": {
    "lc_cell_meme": {
     "current": "265dad13-ac13-11ec-94d8-9b05fb9d5f1d",
     "next": "265dae19-ac13-11ec-83f9-9b05fb9d5f1d",
     "previous": "e1fc0bdb-ac12-11ec-baf2-9b05fb9d5f1d"
    }
   },
   "source": [
    "\n",
    "----\n",
    "\n",
    "**Literate Computing for Reproducible Infrastructureによる属人化させない運用の実践**\n",
    "\n",
    "https://ipsj.ixsq.nii.ac.jp/ej/index.php?active_action=repository_view_main_item_detail&page_id=13&block_id=8&item_id=216807&item_no=1\n",
    "\n",
    "----"
   ]
  },
  {
   "cell_type": "code",
   "execution_count": null,
   "id": "5907ab34",
   "metadata": {
    "lc_cell_meme": {
     "current": "265dae19-ac13-11ec-83f9-9b05fb9d5f1d",
     "next": null,
     "previous": "265dad13-ac13-11ec-94d8-9b05fb9d5f1d"
    }
   },
   "outputs": [],
   "source": []
  }
 ],
 "metadata": {
  "kernelspec": {
   "display_name": "Python 3",
   "language": "python",
   "name": "python3"
  },
  "language_info": {
   "file_extension": ".py",
   "mimetype": "text/x-python",
   "name": "python",
   "nbconvert_exporter": "python",
   "pygments_lexer": "ipython3",
   "version": "3.9.2"
  },
  "lc_notebook_meme": {
   "current": "9a7480b4-ac12-11ec-b4fe-9b05fb9d5f1d",
   "lc_server_signature": {
    "current": {
     "notebook_dir": "/home/yazawa/notebooks",
     "notebook_path": "/",
     "server_url": "https://cloud-jupyter.ecloud.nii.ac.jp/user/yazawa/",
     "signature_id": "df3e931e-9d14-11eb-9e6d-0242ac120002"
    },
    "history": []
   }
  },
  "toc": {
   "base_numbering": 1,
   "nav_menu": {},
   "number_sections": true,
   "sideBar": true,
   "skip_h1_title": false,
   "title_cell": "Table of Contents",
   "title_sidebar": "Contents",
   "toc_cell": false,
   "toc_position": {},
   "toc_section_display": true,
   "toc_window_display": false
  }
 },
 "nbformat": 4,
 "nbformat_minor": 5
}
